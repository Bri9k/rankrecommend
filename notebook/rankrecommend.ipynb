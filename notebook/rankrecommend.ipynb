{
 "metadata": {
  "accelerator": "GPU",
  "colab": {
   "collapsed_sections": [],
   "name": "scrape.ipynb",
   "provenance": [],
   "version": "0.3.2"
  },
  "kernelspec": {
   "display_name": "Python 3",
   "name": "python3"
  },
  "name": "",
  "signature": "sha256:cf17592406fe9b3f0bcbf6283505f43ea08f1f96593b027e49122edae4eecf32"
 },
 "nbformat": 3,
 "nbformat_minor": 0,
 "worksheets": [
  {
   "cells": [
    {
     "cell_type": "markdown",
     "metadata": {},
     "source": [
      "# Github Follow Recommendation\n",
      "\n",
      "> Given a user, build an network surrounding the user and generate follow recommendation for him"
     ]
    },
    {
     "cell_type": "markdown",
     "metadata": {},
     "source": [
      "# Graph Construction:\n",
      "\n",
      "* Given a github username, the following code uses a modified breadth-first search to build a graph of users centred around the root\n",
      "\n",
      "* The code uses *requests* to scrape github based on the followers list, and *BeautifulSoup* to extract information from the html pages. (I used 'inspect element' in firefox to determine the tags that are to be isolated)\n",
      "\n",
      "* The basic logic is this- every iteration, the code 'visists' and unvisited user, and adds his followers and followees to the 'unvisited' list. It also adds an edge from each follower to user and from user to each followee. This, it does till a specified number of nodes are added to the graph.\n",
      "\n",
      "* The graph is then written to a file (better to have reusable data files than re-running the code everytime)\n"
     ]
    },
    {
     "cell_type": "code",
     "collapsed": false,
     "input": [
      "from bs4 import BeautifulSoup\n",
      "import requests as rq\n",
      "import networkx as nx\n",
      "\n",
      "root = \"Bri9k\"\n",
      "filename = \"huge_graph.txt\"\n",
      "\n",
      "unvisited = [root]\n",
      "visited = set()\n",
      "\n",
      "gitgraph = nx.DiGraph()\n",
      "\n",
      "while len(gitgraph) < 1000:\n",
      "    newnode = unvisited[0]\n",
      "\n",
      "    \n",
      "    url = \"https://github.com/\" + newnode + \"/followers\"\n",
      "    print(\"Visiting \" + url)\n",
      "    resource = rq.get(url)   \n",
      "    follower_raw = resource.text\n",
      "    follower_soup = BeautifulSoup(follower_raw)\n",
      "    preprocess_list = follower_soup.find_all(\"a\", class_ = \"d-inline-block\")\n",
      "    try:\n",
      "        names = [user['href'][1:] for user in preprocess_list]\n",
      "        # print(names)\n",
      "        for hrudaya in names[2:]:\n",
      "            gitgraph.add_edge(hrudaya, newnode)\n",
      "            if hrudaya not in visited:\n",
      "                unvisited.append(hrudaya)\n",
      "    except:\n",
      "        print(\"Unable to find folowers for \" + newnode)\n",
      "    \n",
      "    \n",
      "    url2 = \"https://github.com/\" + newnode + \"/following\"\n",
      "    print(\"Visiting \" + url2)\n",
      "    resource = rq.get(url2)\n",
      "    follower_raw = resource.text\n",
      "    follower_soup = BeautifulSoup(follower_raw)\n",
      "    preprocess_list = follower_soup.find_all(\"a\", class_ = \"d-inline-block\")\n",
      "    try:\n",
      "        names = [user['href'][1:] for user in preprocess_list]\n",
      "        # print(names)\n",
      "        for amala in names[2:]:\n",
      "            gitgraph.add_edge(newnode, amala)\n",
      "            if amala not in visited:\n",
      "                unvisited.append(amala)\n",
      "    except:\n",
      "        print(\"Unable to find folowees for \" + newnode)\n",
      "\n",
      "    visited.add(unvisited.pop(0))\n",
      "\n",
      "    \n",
      "github_graph = list(gitgraph.edges())\n",
      "\n",
      "links = open(filename, \"w\")\n",
      "\n",
      "for link in github_graph:\n",
      "    links.write(link[0] + \"\\t\" + link[1] + \"\\n\")\n",
      "\n",
      "links.close()"
     ],
     "language": "python",
     "metadata": {
      "colab": {
       "base_uri": "https://localhost:8080/"
      },
      "colab_type": "code",
      "id": "MOSa4zIv40Ow",
      "outputId": "3eca9f7b-8573-44cf-9258-4c0bed17760d"
     },
     "outputs": [
      {
       "output_type": "stream",
       "stream": "stdout",
       "text": [
        "Visiting https://github.com/Bri9k/followers\n",
        "Visiting https://github.com/Bri9k/following"
       ]
      },
      {
       "output_type": "stream",
       "stream": "stdout",
       "text": [
        "\n",
        "Visiting https://github.com/mayank-02/followers"
       ]
      },
      {
       "output_type": "stream",
       "stream": "stdout",
       "text": [
        "\n",
        "Visiting https://github.com/mayank-02/following"
       ]
      },
      {
       "output_type": "stream",
       "stream": "stdout",
       "text": [
        "\n",
        "Visiting https://github.com/JashDalal/followers"
       ]
      },
      {
       "output_type": "stream",
       "stream": "stdout",
       "text": [
        "\n",
        "Visiting https://github.com/JashDalal/following"
       ]
      },
      {
       "output_type": "stream",
       "stream": "stdout",
       "text": [
        "\n",
        "Visiting https://github.com/shivamhire123123/followers"
       ]
      },
      {
       "output_type": "stream",
       "stream": "stdout",
       "text": [
        "\n",
        "Visiting https://github.com/shivamhire123123/following"
       ]
      },
      {
       "output_type": "stream",
       "stream": "stdout",
       "text": [
        "\n",
        "Visiting https://github.com/gauravjuvekar/followers"
       ]
      },
      {
       "output_type": "stream",
       "stream": "stdout",
       "text": [
        "\n",
        "Visiting https://github.com/gauravjuvekar/following"
       ]
      },
      {
       "output_type": "stream",
       "stream": "stdout",
       "text": [
        "\n",
        "Visiting https://github.com/shivamhire123123/followers"
       ]
      },
      {
       "output_type": "stream",
       "stream": "stdout",
       "text": [
        "\n",
        "Visiting https://github.com/shivamhire123123/following"
       ]
      },
      {
       "output_type": "stream",
       "stream": "stdout",
       "text": [
        "\n",
        "Visiting https://github.com/dmalan/followers"
       ]
      },
      {
       "output_type": "stream",
       "stream": "stdout",
       "text": [
        "\n",
        "Visiting https://github.com/dmalan/following"
       ]
      },
      {
       "output_type": "stream",
       "stream": "stdout",
       "text": [
        "\n",
        "Visiting https://github.com/mtoyoda/followers"
       ]
      },
      {
       "output_type": "stream",
       "stream": "stdout",
       "text": [
        "\n",
        "Visiting https://github.com/mtoyoda/following"
       ]
      },
      {
       "output_type": "stream",
       "stream": "stdout",
       "text": [
        "\n",
        "Visiting https://github.com/yashghelani/followers"
       ]
      },
      {
       "output_type": "stream",
       "stream": "stdout",
       "text": [
        "\n",
        "Visiting https://github.com/yashghelani/following"
       ]
      },
      {
       "output_type": "stream",
       "stream": "stdout",
       "text": [
        "\n",
        "Visiting https://github.com/sumedhpendurkar/followers"
       ]
      },
      {
       "output_type": "stream",
       "stream": "stdout",
       "text": [
        "\n",
        "Visiting https://github.com/sumedhpendurkar/following"
       ]
      },
      {
       "output_type": "stream",
       "stream": "stdout",
       "text": [
        "\n",
        "Visiting https://github.com/abhisheklolage/followers"
       ]
      },
      {
       "output_type": "stream",
       "stream": "stdout",
       "text": [
        "\n",
        "Visiting https://github.com/abhisheklolage/following"
       ]
      },
      {
       "output_type": "stream",
       "stream": "stdout",
       "text": [
        "\n",
        "Visiting https://github.com/gauravjuvekar/followers"
       ]
      },
      {
       "output_type": "stream",
       "stream": "stdout",
       "text": [
        "\n",
        "Visiting https://github.com/gauravjuvekar/following"
       ]
      },
      {
       "output_type": "stream",
       "stream": "stdout",
       "text": [
        "\n",
        "Visiting https://github.com/Pranav2612000/followers"
       ]
      },
      {
       "output_type": "stream",
       "stream": "stdout",
       "text": [
        "\n",
        "Visiting https://github.com/Pranav2612000/following"
       ]
      },
      {
       "output_type": "stream",
       "stream": "stdout",
       "text": [
        "\n",
        "Visiting https://github.com/SinghNO/followers"
       ]
      },
      {
       "output_type": "stream",
       "stream": "stdout",
       "text": [
        "\n",
        "Visiting https://github.com/SinghNO/following"
       ]
      },
      {
       "output_type": "stream",
       "stream": "stdout",
       "text": [
        "\n",
        "Visiting https://github.com/Salonig97/followers"
       ]
      },
      {
       "output_type": "stream",
       "stream": "stdout",
       "text": [
        "\n",
        "Visiting https://github.com/Salonig97/following"
       ]
      },
      {
       "output_type": "stream",
       "stream": "stdout",
       "text": [
        "\n",
        "Visiting https://github.com/adityan263/followers"
       ]
      },
      {
       "output_type": "stream",
       "stream": "stdout",
       "text": [
        "\n",
        "Visiting https://github.com/adityan263/following"
       ]
      },
      {
       "output_type": "stream",
       "stream": "stdout",
       "text": [
        "\n",
        "Visiting https://github.com/Pushan-Gore/followers"
       ]
      },
      {
       "output_type": "stream",
       "stream": "stdout",
       "text": [
        "\n",
        "Visiting https://github.com/Pushan-Gore/following"
       ]
      },
      {
       "output_type": "stream",
       "stream": "stdout",
       "text": [
        "\n",
        "Visiting https://github.com/sumedhpendurkar/followers"
       ]
      },
      {
       "output_type": "stream",
       "stream": "stdout",
       "text": [
        "\n",
        "Visiting https://github.com/sumedhpendurkar/following"
       ]
      },
      {
       "output_type": "stream",
       "stream": "stdout",
       "text": [
        "\n",
        "Visiting https://github.com/VaradGhodake/followers"
       ]
      },
      {
       "output_type": "stream",
       "stream": "stdout",
       "text": [
        "\n",
        "Visiting https://github.com/VaradGhodake/following"
       ]
      },
      {
       "output_type": "stream",
       "stream": "stdout",
       "text": [
        "\n",
        "Visiting https://github.com/uigoku/followers"
       ]
      },
      {
       "output_type": "stream",
       "stream": "stdout",
       "text": [
        "\n",
        "Visiting https://github.com/uigoku/following"
       ]
      },
      {
       "output_type": "stream",
       "stream": "stdout",
       "text": [
        "\n",
        "Visiting https://github.com/amolik/followers"
       ]
      },
      {
       "output_type": "stream",
       "stream": "stdout",
       "text": [
        "\n",
        "Visiting https://github.com/amolik/following"
       ]
      },
      {
       "output_type": "stream",
       "stream": "stdout",
       "text": [
        "\n",
        "Visiting https://github.com/AkshaySapkale/followers"
       ]
      },
      {
       "output_type": "stream",
       "stream": "stdout",
       "text": [
        "\n",
        "Visiting https://github.com/AkshaySapkale/following"
       ]
      },
      {
       "output_type": "stream",
       "stream": "stdout",
       "text": [
        "\n",
        "Visiting https://github.com/sahasradude/followers"
       ]
      },
      {
       "output_type": "stream",
       "stream": "stdout",
       "text": [
        "\n",
        "Visiting https://github.com/sahasradude/following"
       ]
      },
      {
       "output_type": "stream",
       "stream": "stdout",
       "text": [
        "\n",
        "Visiting https://github.com/illucent/followers"
       ]
      },
      {
       "output_type": "stream",
       "stream": "stdout",
       "text": [
        "\n",
        "Visiting https://github.com/illucent/following"
       ]
      },
      {
       "output_type": "stream",
       "stream": "stdout",
       "text": [
        "\n",
        "Visiting https://github.com/udevril/followers"
       ]
      },
      {
       "output_type": "stream",
       "stream": "stdout",
       "text": [
        "\n",
        "Visiting https://github.com/udevril/following"
       ]
      },
      {
       "output_type": "stream",
       "stream": "stdout",
       "text": [
        "\n",
        "Visiting https://github.com/supreem61/followers"
       ]
      },
      {
       "output_type": "stream",
       "stream": "stdout",
       "text": [
        "\n",
        "Visiting https://github.com/supreem61/following"
       ]
      },
      {
       "output_type": "stream",
       "stream": "stdout",
       "text": [
        "\n",
        "Visiting https://github.com/dalcde/followers"
       ]
      },
      {
       "output_type": "stream",
       "stream": "stdout",
       "text": [
        "\n",
        "Visiting https://github.com/dalcde/following"
       ]
      },
      {
       "output_type": "stream",
       "stream": "stdout",
       "text": [
        "\n",
        "Visiting https://github.com/clefebvre/followers"
       ]
      },
      {
       "output_type": "stream",
       "stream": "stdout",
       "text": [
        "\n",
        "Visiting https://github.com/clefebvre/following"
       ]
      },
      {
       "output_type": "stream",
       "stream": "stdout",
       "text": [
        "\n",
        "Visiting https://github.com/sumedhpendurkar/followers"
       ]
      },
      {
       "output_type": "stream",
       "stream": "stdout",
       "text": [
        "\n",
        "Visiting https://github.com/sumedhpendurkar/following"
       ]
      },
      {
       "output_type": "stream",
       "stream": "stdout",
       "text": [
        "\n",
        "Visiting https://github.com/abhisheklolage/followers"
       ]
      },
      {
       "output_type": "stream",
       "stream": "stdout",
       "text": [
        "\n",
        "Visiting https://github.com/abhisheklolage/following"
       ]
      },
      {
       "output_type": "stream",
       "stream": "stdout",
       "text": [
        "\n",
        "Visiting https://github.com/Pranav2612000/followers"
       ]
      },
      {
       "output_type": "stream",
       "stream": "stdout",
       "text": [
        "\n",
        "Visiting https://github.com/Pranav2612000/following"
       ]
      },
      {
       "output_type": "stream",
       "stream": "stdout",
       "text": [
        "\n",
        "Visiting https://github.com/architSrivastav/followers"
       ]
      },
      {
       "output_type": "stream",
       "stream": "stdout",
       "text": [
        "\n",
        "Visiting https://github.com/architSrivastav/following"
       ]
      },
      {
       "output_type": "stream",
       "stream": "stdout",
       "text": [
        "\n",
        "Visiting https://github.com/ArashCh/followers"
       ]
      },
      {
       "output_type": "stream",
       "stream": "stdout",
       "text": [
        "\n",
        "Visiting https://github.com/ArashCh/following"
       ]
      },
      {
       "output_type": "stream",
       "stream": "stdout",
       "text": [
        "\n",
        "Visiting https://github.com/elazarte/followers"
       ]
      },
      {
       "output_type": "stream",
       "stream": "stdout",
       "text": [
        "\n",
        "Visiting https://github.com/elazarte/following"
       ]
      },
      {
       "output_type": "stream",
       "stream": "stdout",
       "text": [
        "\n",
        "Visiting https://github.com/tdandup/followers"
       ]
      },
      {
       "output_type": "stream",
       "stream": "stdout",
       "text": [
        "\n",
        "Visiting https://github.com/tdandup/following"
       ]
      },
      {
       "output_type": "stream",
       "stream": "stdout",
       "text": [
        "\n",
        "Visiting https://github.com/DhananjayNarayan/followers"
       ]
      },
      {
       "output_type": "stream",
       "stream": "stdout",
       "text": [
        "\n",
        "Visiting https://github.com/DhananjayNarayan/following"
       ]
      },
      {
       "output_type": "stream",
       "stream": "stdout",
       "text": [
        "\n",
        "Visiting https://github.com/HridoyAlam/followers"
       ]
      },
      {
       "output_type": "stream",
       "stream": "stdout",
       "text": [
        "\n",
        "Visiting https://github.com/HridoyAlam/following"
       ]
      },
      {
       "output_type": "stream",
       "stream": "stdout",
       "text": [
        "\n",
        "Visiting https://github.com/majdalsharif/followers"
       ]
      },
      {
       "output_type": "stream",
       "stream": "stdout",
       "text": [
        "\n",
        "Visiting https://github.com/majdalsharif/following"
       ]
      },
      {
       "output_type": "stream",
       "stream": "stdout",
       "text": [
        "\n",
        "Visiting https://github.com/sandaruchamika/followers"
       ]
      },
      {
       "output_type": "stream",
       "stream": "stdout",
       "text": [
        "\n",
        "Visiting https://github.com/sandaruchamika/following"
       ]
      },
      {
       "output_type": "stream",
       "stream": "stdout",
       "text": [
        "\n",
        "Visiting https://github.com/mikef80/followers"
       ]
      },
      {
       "output_type": "stream",
       "stream": "stdout",
       "text": [
        "\n",
        "Visiting https://github.com/mikef80/following"
       ]
      },
      {
       "output_type": "stream",
       "stream": "stdout",
       "text": [
        "\n",
        "Visiting https://github.com/marudhu2004/followers"
       ]
      },
      {
       "output_type": "stream",
       "stream": "stdout",
       "text": [
        "\n",
        "Visiting https://github.com/marudhu2004/following"
       ]
      },
      {
       "output_type": "stream",
       "stream": "stdout",
       "text": [
        "\n",
        "Visiting https://github.com/bhimrazy/followers"
       ]
      },
      {
       "output_type": "stream",
       "stream": "stdout",
       "text": [
        "\n",
        "Visiting https://github.com/bhimrazy/following"
       ]
      },
      {
       "output_type": "stream",
       "stream": "stdout",
       "text": [
        "\n",
        "Visiting https://github.com/Big0290/followers"
       ]
      },
      {
       "output_type": "stream",
       "stream": "stdout",
       "text": [
        "\n",
        "Visiting https://github.com/Big0290/following"
       ]
      },
      {
       "output_type": "stream",
       "stream": "stdout",
       "text": [
        "\n",
        "Visiting https://github.com/lima432122/followers"
       ]
      },
      {
       "output_type": "stream",
       "stream": "stdout",
       "text": [
        "\n",
        "Visiting https://github.com/lima432122/following"
       ]
      },
      {
       "output_type": "stream",
       "stream": "stdout",
       "text": [
        "\n",
        "Visiting https://github.com/sharmake124/followers"
       ]
      },
      {
       "output_type": "stream",
       "stream": "stdout",
       "text": [
        "\n",
        "Visiting https://github.com/sharmake124/following"
       ]
      },
      {
       "output_type": "stream",
       "stream": "stdout",
       "text": [
        "\n",
        "Visiting https://github.com/airandersons/followers"
       ]
      },
      {
       "output_type": "stream",
       "stream": "stdout",
       "text": [
        "\n",
        "Visiting https://github.com/airandersons/following"
       ]
      },
      {
       "output_type": "stream",
       "stream": "stdout",
       "text": [
        "\n",
        "Visiting https://github.com/nfs664/followers"
       ]
      },
      {
       "output_type": "stream",
       "stream": "stdout",
       "text": [
        "\n",
        "Visiting https://github.com/nfs664/following"
       ]
      },
      {
       "output_type": "stream",
       "stream": "stdout",
       "text": [
        "\n",
        "Visiting https://github.com/chimeziesolomon/followers"
       ]
      },
      {
       "output_type": "stream",
       "stream": "stdout",
       "text": [
        "\n",
        "Visiting https://github.com/chimeziesolomon/following"
       ]
      },
      {
       "output_type": "stream",
       "stream": "stdout",
       "text": [
        "\n",
        "Visiting https://github.com/Shivam283/followers"
       ]
      },
      {
       "output_type": "stream",
       "stream": "stdout",
       "text": [
        "\n",
        "Visiting https://github.com/Shivam283/following"
       ]
      },
      {
       "output_type": "stream",
       "stream": "stdout",
       "text": [
        "\n",
        "Visiting https://github.com/keldevi/followers"
       ]
      },
      {
       "output_type": "stream",
       "stream": "stdout",
       "text": [
        "\n",
        "Visiting https://github.com/keldevi/following"
       ]
      },
      {
       "output_type": "stream",
       "stream": "stdout",
       "text": [
        "\n",
        "Visiting https://github.com/shiko92/followers"
       ]
      },
      {
       "output_type": "stream",
       "stream": "stdout",
       "text": [
        "\n",
        "Visiting https://github.com/shiko92/following"
       ]
      },
      {
       "output_type": "stream",
       "stream": "stdout",
       "text": [
        "\n",
        "Visiting https://github.com/make-go-fast-good/followers"
       ]
      },
      {
       "output_type": "stream",
       "stream": "stdout",
       "text": [
        "\n",
        "Visiting https://github.com/make-go-fast-good/following"
       ]
      },
      {
       "output_type": "stream",
       "stream": "stdout",
       "text": [
        "\n",
        "Visiting https://github.com/JonnyKru/followers"
       ]
      },
      {
       "output_type": "stream",
       "stream": "stdout",
       "text": [
        "\n",
        "Visiting https://github.com/JonnyKru/following"
       ]
      },
      {
       "output_type": "stream",
       "stream": "stdout",
       "text": [
        "\n",
        "Visiting https://github.com/Gursimar-Singh-Ply/followers"
       ]
      },
      {
       "output_type": "stream",
       "stream": "stdout",
       "text": [
        "\n",
        "Visiting https://github.com/Gursimar-Singh-Ply/following"
       ]
      },
      {
       "output_type": "stream",
       "stream": "stdout",
       "text": [
        "\n",
        "Visiting https://github.com/sevillachea/followers"
       ]
      },
      {
       "output_type": "stream",
       "stream": "stdout",
       "text": [
        "\n",
        "Visiting https://github.com/sevillachea/following"
       ]
      },
      {
       "output_type": "stream",
       "stream": "stdout",
       "text": [
        "\n",
        "Visiting https://github.com/22051992/followers"
       ]
      },
      {
       "output_type": "stream",
       "stream": "stdout",
       "text": [
        "\n",
        "Visiting https://github.com/22051992/following"
       ]
      },
      {
       "output_type": "stream",
       "stream": "stdout",
       "text": [
        "\n",
        "Visiting https://github.com/puja-123/followers"
       ]
      },
      {
       "output_type": "stream",
       "stream": "stdout",
       "text": [
        "\n",
        "Visiting https://github.com/puja-123/following"
       ]
      },
      {
       "output_type": "stream",
       "stream": "stdout",
       "text": [
        "\n",
        "Visiting https://github.com/atq860/followers"
       ]
      },
      {
       "output_type": "stream",
       "stream": "stdout",
       "text": [
        "\n",
        "Visiting https://github.com/atq860/following"
       ]
      },
      {
       "output_type": "stream",
       "stream": "stdout",
       "text": [
        "\n",
        "Visiting https://github.com/keshavbantu/followers"
       ]
      },
      {
       "output_type": "stream",
       "stream": "stdout",
       "text": [
        "\n",
        "Visiting https://github.com/keshavbantu/following"
       ]
      },
      {
       "output_type": "stream",
       "stream": "stdout",
       "text": [
        "\n",
        "Visiting https://github.com/mohammedelzanaty/followers"
       ]
      },
      {
       "output_type": "stream",
       "stream": "stdout",
       "text": [
        "\n",
        "Visiting https://github.com/mohammedelzanaty/following"
       ]
      },
      {
       "output_type": "stream",
       "stream": "stdout",
       "text": [
        "\n",
        "Visiting https://github.com/bosecodes/followers"
       ]
      },
      {
       "output_type": "stream",
       "stream": "stdout",
       "text": [
        "\n",
        "Visiting https://github.com/bosecodes/following"
       ]
      },
      {
       "output_type": "stream",
       "stream": "stdout",
       "text": [
        "\n",
        "Visiting https://github.com/rstar900/followers"
       ]
      },
      {
       "output_type": "stream",
       "stream": "stdout",
       "text": [
        "\n",
        "Visiting https://github.com/rstar900/following"
       ]
      },
      {
       "output_type": "stream",
       "stream": "stdout",
       "text": [
        "\n",
        "Visiting https://github.com/sas032/followers"
       ]
      },
      {
       "output_type": "stream",
       "stream": "stdout",
       "text": [
        "\n",
        "Visiting https://github.com/sas032/following"
       ]
      },
      {
       "output_type": "stream",
       "stream": "stdout",
       "text": [
        "\n",
        "Visiting https://github.com/StefanGavrilov/followers"
       ]
      },
      {
       "output_type": "stream",
       "stream": "stdout",
       "text": [
        "\n",
        "Visiting https://github.com/StefanGavrilov/following"
       ]
      },
      {
       "output_type": "stream",
       "stream": "stdout",
       "text": [
        "\n",
        "Visiting https://github.com/volost/followers"
       ]
      },
      {
       "output_type": "stream",
       "stream": "stdout",
       "text": [
        "\n",
        "Visiting https://github.com/volost/following"
       ]
      },
      {
       "output_type": "stream",
       "stream": "stdout",
       "text": [
        "\n",
        "Visiting https://github.com/ivanlim123/followers"
       ]
      },
      {
       "output_type": "stream",
       "stream": "stdout",
       "text": [
        "\n",
        "Visiting https://github.com/ivanlim123/following"
       ]
      },
      {
       "output_type": "stream",
       "stream": "stdout",
       "text": [
        "\n",
        "Visiting https://github.com/markstaithes/followers"
       ]
      },
      {
       "output_type": "stream",
       "stream": "stdout",
       "text": [
        "\n",
        "Visiting https://github.com/markstaithes/following"
       ]
      },
      {
       "output_type": "stream",
       "stream": "stdout",
       "text": [
        "\n",
        "Visiting https://github.com/Liliavillavargas/followers"
       ]
      },
      {
       "output_type": "stream",
       "stream": "stdout",
       "text": [
        "\n",
        "Visiting https://github.com/Liliavillavargas/following"
       ]
      },
      {
       "output_type": "stream",
       "stream": "stdout",
       "text": [
        "\n",
        "Visiting https://github.com/renanlopescoder/followers"
       ]
      },
      {
       "output_type": "stream",
       "stream": "stdout",
       "text": [
        "\n",
        "Visiting https://github.com/renanlopescoder/following"
       ]
      },
      {
       "output_type": "stream",
       "stream": "stdout",
       "text": [
        "\n",
        "Visiting https://github.com/Brijesh097/followers"
       ]
      },
      {
       "output_type": "stream",
       "stream": "stdout",
       "text": [
        "\n",
        "Visiting https://github.com/Brijesh097/following"
       ]
      },
      {
       "output_type": "stream",
       "stream": "stdout",
       "text": [
        "\n",
        "Visiting https://github.com/Ngugisenior/followers"
       ]
      },
      {
       "output_type": "stream",
       "stream": "stdout",
       "text": [
        "\n",
        "Visiting https://github.com/Ngugisenior/following"
       ]
      },
      {
       "output_type": "stream",
       "stream": "stdout",
       "text": [
        "\n",
        "Visiting https://github.com/agenthighcastle/followers"
       ]
      },
      {
       "output_type": "stream",
       "stream": "stdout",
       "text": [
        "\n",
        "Visiting https://github.com/agenthighcastle/following"
       ]
      },
      {
       "output_type": "stream",
       "stream": "stdout",
       "text": [
        "\n",
        "Visiting https://github.com/natbityou/followers"
       ]
      },
      {
       "output_type": "stream",
       "stream": "stdout",
       "text": [
        "\n",
        "Visiting https://github.com/natbityou/following"
       ]
      },
      {
       "output_type": "stream",
       "stream": "stdout",
       "text": [
        "\n",
        "Visiting https://github.com/javeria-shah/followers"
       ]
      },
      {
       "output_type": "stream",
       "stream": "stdout",
       "text": [
        "\n",
        "Visiting https://github.com/javeria-shah/following"
       ]
      },
      {
       "output_type": "stream",
       "stream": "stdout",
       "text": [
        "\n",
        "Visiting https://github.com/Punchyou/followers"
       ]
      },
      {
       "output_type": "stream",
       "stream": "stdout",
       "text": [
        "\n",
        "Visiting https://github.com/Punchyou/following"
       ]
      },
      {
       "output_type": "stream",
       "stream": "stdout",
       "text": [
        "\n",
        "Visiting https://github.com/MrMoutinho/followers"
       ]
      },
      {
       "output_type": "stream",
       "stream": "stdout",
       "text": [
        "\n",
        "Visiting https://github.com/MrMoutinho/following"
       ]
      },
      {
       "output_type": "stream",
       "stream": "stdout",
       "text": [
        "\n",
        "Visiting https://github.com/Herve-A/followers"
       ]
      },
      {
       "output_type": "stream",
       "stream": "stdout",
       "text": [
        "\n",
        "Visiting https://github.com/Herve-A/following"
       ]
      },
      {
       "output_type": "stream",
       "stream": "stdout",
       "text": [
        "\n",
        "Visiting https://github.com/imkhannn/followers"
       ]
      },
      {
       "output_type": "stream",
       "stream": "stdout",
       "text": [
        "\n",
        "Visiting https://github.com/imkhannn/following"
       ]
      },
      {
       "output_type": "stream",
       "stream": "stdout",
       "text": [
        "\n",
        "Visiting https://github.com/adam-r-myers/followers"
       ]
      },
      {
       "output_type": "stream",
       "stream": "stdout",
       "text": [
        "\n",
        "Visiting https://github.com/adam-r-myers/following"
       ]
      },
      {
       "output_type": "stream",
       "stream": "stdout",
       "text": [
        "\n",
        "Visiting https://github.com/svpiddubna/followers"
       ]
      },
      {
       "output_type": "stream",
       "stream": "stdout",
       "text": [
        "\n",
        "Visiting https://github.com/svpiddubna/following"
       ]
      },
      {
       "output_type": "stream",
       "stream": "stdout",
       "text": [
        "\n",
        "Visiting https://github.com/deoresuyog/followers"
       ]
      },
      {
       "output_type": "stream",
       "stream": "stdout",
       "text": [
        "\n",
        "Visiting https://github.com/deoresuyog/following"
       ]
      },
      {
       "output_type": "stream",
       "stream": "stdout",
       "text": [
        "\n",
        "Visiting https://github.com/handanz/followers"
       ]
      },
      {
       "output_type": "stream",
       "stream": "stdout",
       "text": [
        "\n",
        "Visiting https://github.com/handanz/following"
       ]
      },
      {
       "output_type": "stream",
       "stream": "stdout",
       "text": [
        "\n",
        "Visiting https://github.com/saulcosta/followers"
       ]
      },
      {
       "output_type": "stream",
       "stream": "stdout",
       "text": [
        "\n",
        "Visiting https://github.com/saulcosta/following"
       ]
      },
      {
       "output_type": "stream",
       "stream": "stdout",
       "text": [
        "\n",
        "Visiting https://github.com/ummcheng/followers"
       ]
      },
      {
       "output_type": "stream",
       "stream": "stdout",
       "text": [
        "\n",
        "Visiting https://github.com/ummcheng/following"
       ]
      },
      {
       "output_type": "stream",
       "stream": "stdout",
       "text": [
        "\n",
        "Visiting https://github.com/crossroads1112/followers"
       ]
      },
      {
       "output_type": "stream",
       "stream": "stdout",
       "text": [
        "\n",
        "Visiting https://github.com/crossroads1112/following"
       ]
      },
      {
       "output_type": "stream",
       "stream": "stdout",
       "text": [
        "\n",
        "Visiting https://github.com/brianyu28/followers"
       ]
      },
      {
       "output_type": "stream",
       "stream": "stdout",
       "text": [
        "\n",
        "Visiting https://github.com/brianyu28/following"
       ]
      },
      {
       "output_type": "stream",
       "stream": "stdout",
       "text": [
        "\n",
        "Visiting https://github.com/johndbritton/followers"
       ]
      },
      {
       "output_type": "stream",
       "stream": "stdout",
       "text": [
        "\n",
        "Visiting https://github.com/johndbritton/following"
       ]
      },
      {
       "output_type": "stream",
       "stream": "stdout",
       "text": [
        "\n"
       ]
      },
      {
       "output_type": "stream",
       "stream": "stderr",
       "text": [
        "/home/akshay/.local/lib/python3.5/site-packages/requests/__init__.py:83: RequestsDependencyWarning: Old version of cryptography ([1, 2, 3]) may cause slowdown.\n",
        "  warnings.warn(warning, RequestsDependencyWarning)\n"
       ]
      }
     ],
     "prompt_number": 1
    },
    {
     "cell_type": "code",
     "collapsed": false,
     "input": [
      "!ls"
     ],
     "language": "python",
     "metadata": {
      "colab": {
       "base_uri": "https://localhost:8080/",
       "height": 35
      },
      "colab_type": "code",
      "id": "P_vVsIxu50OE",
      "outputId": "100c5728-0b61-4463-a7f0-0b3a4c93d4ff"
     },
     "outputs": [
      {
       "output_type": "stream",
       "stream": "stdout",
       "text": [
        "app.py\t\t  graphtest.py\t  idlegraph.py\t   op1.txt\tranks1.txt    scrape.py   simple.py~\r\n",
        "app.pyc\t\t  graph.txt\t  linkpredict.py   output.txt\tranks.txt     scrape.py~  tags\r\n",
        "githubpredict.py  huge_graph.txt  linkpredict.py~  __pycache__\tscrape.ipynb  simple.py   wikilink.ipynb\r\n"
       ]
      }
     ],
     "prompt_number": 2
    },
    {
     "cell_type": "markdown",
     "metadata": {},
     "source": [
      "# Basic Anylisis:\n",
      "\n",
      "* Builds a graph from the scraped file, runs basic pagerank on it (to determine influencial users without root), draws it, and dislplays the list."
     ]
    },
    {
     "cell_type": "code",
     "collapsed": false,
     "input": [
      "import networkx as nx\n",
      "import csv\n",
      "import matplotlib.pyplot as plt\n",
      "\n",
      "gitgraph = nx.DiGraph()\n",
      "\n",
      "graphfile = open(\"huge_graph.txt\", \"r\")\n",
      "\n",
      "reader = csv.reader(graphfile, delimiter = \"\\t\")\n",
      "\n",
      "for line in reader:\n",
      "    gitgraph.add_edge(line[0], line[1])\n",
      "\n",
      "nx.info(gitgraph)\n",
      "\n",
      "userrank_dict = nx.pagerank(gitgraph)\n",
      "\n",
      "sorte = sorted(userrank_dict, key = lambda k: userrank_dict[k], reverse = True)\n",
      "\n",
      "for user in sorte:\n",
      "  print(user, userrank_dict[user])\n",
      "\n",
      "op = open(\"ranks.txt\", \"w\")\n",
      "for user in sorte:\n",
      "    op.write(user + \"    \" + str(userrank_dict[user]) + \"\\n\")\n",
      "\n",
      "op.close()\n",
      "\n",
      "nx.draw_spring(gitgraph, with_labels = False, node_size = 2, width = 0.1, arrows = False)\n",
      "plt.show()"
     ],
     "language": "python",
     "metadata": {
      "colab": {
       "base_uri": "https://localhost:8080/",
       "height": 18436
      },
      "colab_type": "code",
      "id": "7qIb4m9S6HaM",
      "outputId": "c51ad988-0b43-43f7-8a68-65ee85576195"
     },
     "outputs": [
      {
       "output_type": "stream",
       "stream": "stdout",
       "text": [
        "prakhar1989 0.028306909326939723\n",
        "FrancescoXX 0.027808440259930726\n",
        "aroraakshit 0.01929906021099707\n",
        "VastoLorde95 0.01885703913206737\n",
        "iam-mhaseeb 0.018707469260200615\n",
        "iamadarshk 0.015755327897020218\n",
        "plxity 0.011960382317589282\n",
        "yennanliu 0.00814439819757574\n",
        "gauravjuvekar 0.008087871247140497\n",
        "zhangyaqi1989 0.007801390727355179\n",
        "arten1337 0.005883714375101242\n",
        "ShubhamOjha 0.005233510025935665\n",
        "jaskeerat789 0.005071118323995224\n",
        "clefebvre 0.004064276695828883\n",
        "dalcde 0.004064276695828883\n",
        "sumedhpendurkar 0.003467959091587638\n",
        "mfsiat 0.002964006699306671\n",
        "stephen1401 0.0024565327628735018\n",
        "shailysaigal 0.002242808426862175\n",
        "Bri9k 0.0019045269176270045\n",
        "Mindjolt2406 0.0017744525758111786\n",
        "NimishaGarg 0.0017744525758111786\n",
        "sidd607 0.0017744525758111786\n",
        "MahidharBandaru 0.0017744525758111786\n",
        "singh-shreya321 0.0017744525758111786\n",
        "shyamkb31 0.0017744525758111786\n",
        "sourav-roni 0.0017744525758111786\n",
        "brahmakulkarni 0.0017744525758111786\n",
        "anubhav3itb 0.0017744525758111786\n",
        "bradyz 0.0017744525758111786\n",
        "simrandokania1995 0.0017744525758111786\n",
        "savs95 0.0017744525758111786\n",
        "pjreddie 0.0017744525758111786\n",
        "jch1 0.0017744525758111786\n",
        "mrdoob 0.0014134948705710713\n",
        "danielgenius98 0.001396901427872822\n",
        "prer1t 0.0013654316559926485\n",
        "amueller 0.001359690602214144\n",
        "dynamicwebpaige 0.0012701566757336818\n",
        "shaz13 0.0012604575458128075\n",
        "dabeaz 0.0012319261908135275\n",
        "mikolalysenko 0.0012319261908135275\n",
        "h3li05369 0.001198215082285647\n",
        "rauchg 0.0011849360137977237\n",
        "dmalan 0.0011705928643321168\n",
        "shivamhire123123 0.0011705928643321168\n",
        "gaearon 0.0011430032552041621\n",
        "goodfeli 0.001139164857024112\n",
        "karpathy 0.001139164857024112\n",
        "yyx990803 0.0011372171653271485\n",
        "achael 0.0011154385696554108\n",
        "shaunlebron 0.0011021031126780293\n",
        "kenwheeler 0.0011021031126780293\n",
        "ekmett 0.0011021031126780293\n",
        "benjamn 0.0011021031126780293\n",
        "kachayev 0.0011021031126780293\n",
        "mgechev 0.0011021031126780293\n",
        "Manishearth 0.0011021031126780293\n",
        "jxnblk 0.0011021031126780293\n",
        "evmar 0.0011021031126780293\n",
        "mikeal 0.0011021031126780293\n",
        "acdlite 0.0011021031126780293\n",
        "marijnh 0.0011021031126780293\n",
        "avsm 0.0011021031126780293\n",
        "franciscop 0.0011021031126780293\n",
        "leebyron 0.0011021031126780293\n",
        "JakeWharton 0.0011021031126780293\n",
        "ericelliott 0.0011021031126780293\n",
        "jaredly 0.0011021031126780293\n",
        "feross 0.0011021031126780293\n",
        "HenrikJoreteg 0.0011021031126780293\n",
        "tonsky 0.0011021031126780293\n",
        "vjeux 0.0011021031126780293\n",
        "jamiebuilds 0.0011021031126780293\n",
        "codahale 0.0011021031126780293\n",
        "paulirish 0.0011021031126780293\n",
        "BinRoot 0.0011021031126780293\n",
        "begriffs 0.0011021031126780293\n",
        "sharkdp 0.0011021031126780293\n",
        "owickstrom 0.0011021031126780293\n",
        "BurntSushi 0.0011021031126780293\n",
        "yogthos 0.0011021031126780293\n",
        "rakyll 0.0011021031126780293\n",
        "rcoh 0.0011021031126780293\n",
        "srujans1 0.0011021031126780293\n",
        "ruuda 0.0011021031126780293\n",
        "mourner 0.0011021031126780293\n",
        "leafo 0.0011021031126780293\n",
        "weavejester 0.0011021031126780293\n",
        "junegunn 0.0011021031126780293\n",
        "progrium 0.0011021031126780293\n",
        "kovidgoyal 0.0011021031126780293\n",
        "DevanshiVyas 0.0011021031126780293\n",
        "benbjohnson 0.0011021031126780293\n",
        "evhub 0.0011021031126780293\n",
        "SushantKrSingh 0.0010924190097917582\n",
        "joeante 0.00108550966997978\n",
        "larus 0.00108550966997978\n",
        "teivah 0.00108550966997978\n",
        "nyerup 0.00108550966997978\n",
        "miyabi 0.00108550966997978\n",
        "lucasmeijer 0.00108550966997978\n",
        "nervus 0.00108550966997978\n",
        "hashDanChibueze 0.00108550966997978\n",
        "SteenLund 0.00108550966997978\n",
        "kadler 0.00108550966997978\n",
        "laurenmayers 0.00108550966997978\n",
        "xTheEc0 0.00108550966997978\n",
        "natosha 0.00108550966997978\n",
        "rhks5095 0.00108550966997978\n",
        "JonHurstB 0.00108550966997978\n",
        "Wladislaw28 0.00108550966997978\n",
        "Tak 0.00108550966997978\n",
        "mariangemarcano 0.00108550966997978\n",
        "gewentao 0.00108550966997978\n",
        "justintanner 0.00108550966997978\n",
        "patrickfournier 0.00108550966997978\n",
        "todi1856 0.00108550966997978\n",
        "joncham 0.00108550966997978\n",
        "paksu 0.00108550966997978\n",
        "mantasp 0.00108550966997978\n",
        "heathdutton 0.00108550966997978\n",
        "RINEARN 0.00108550966997978\n",
        "OmidRezaei 0.00108550966997978\n",
        "vedgiee 0.00108550966997978\n",
        "atas76 0.00108550966997978\n",
        "emeryberger 0.00108550966997978\n",
        "misterdjules 0.00108550966997978\n",
        "jcd 0.00108550966997978\n",
        "shusso 0.00108550966997978\n",
        "tomzig16 0.00108550966997978\n",
        "mrholek 0.00108550966997978\n",
        "historicalsource 0.00108550966997978\n",
        "avelino 0.00108550966997978\n",
        "nfultz 0.00108550966997978\n",
        "fakhamatia 0.00108550966997978\n",
        "whiz25 0.00108550966997978\n",
        "kulidan 0.00108550966997978\n",
        "AdiChat 0.00108550966997978\n",
        "jechter 0.00108550966997978\n",
        "KimSteenRiber 0.00108550966997978\n",
        "chm-diederichs 0.00108550966997978\n",
        "imran-iq 0.00108550966997978\n",
        "robertolima-dev 0.00108550966997978\n",
        "mmattar 0.00108550966997978\n",
        "alexandriaroberts 0.00108550966997978\n",
        "mehta-a 0.0010827441890613036\n",
        "norvig 0.001072468768020906\n",
        "Sentdex 0.0010669249586562454\n",
        "binga 0.0010280619557007362\n",
        "arnocandel 0.0010280619557007362\n",
        "ageitgey 0.0010254785910051023\n",
        "torvalds 0.001016168980011589\n",
        "sebastianruder 0.000993581911208961\n",
        "ABHISHEK-G0YAL 0.0009801722472646155\n",
        "shubhank-saxena 0.0009801722472646155\n",
        "amanarora9848 0.0009801722472646155\n",
        "sanchit-nayyar 0.0009801722472646155\n",
        "ageron 0.000980125572931332\n",
        "susanli2016 0.0009792650767922431\n",
        "KaimingHe 0.0009792650767922431\n",
        "minimaxir 0.0009792650767922431\n",
        "ShivamGoyal1899 0.000976964980005937\n",
        "lakshit1001 0.000976964980005937\n",
        "hello-anmol 0.0009765870380358966\n",
        "rasbt 0.0009702087422060373\n",
        "rhiever 0.0009702087422060373\n",
        "lnishan 0.0009610656510197512\n",
        "cghawthorne 0.0009525625206107027\n",
        "t-vi 0.0009525625206107027\n",
        "rishabhmisra 0.0009525625206107027\n",
        "jamu0075 0.0009525625206107027\n",
        "dhawaskar 0.0009525625206107027\n",
        "brmu8861 0.0009525625206107027\n",
        "specdrums 0.0009525625206107027\n",
        "inbravo 0.0009525625206107027\n",
        "jmason86 0.0009525625206107027\n",
        "timrudner 0.0009525625206107027\n",
        "yining1023 0.0009525625206107027\n",
        "czhuang 0.0009525625206107027\n",
        "rickparker 0.0009525625206107027\n",
        "ywteh 0.0009525625206107027\n",
        "bennytheshap 0.0009525625206107027\n",
        "Derek-Wds 0.0009525625206107027\n",
        "KaunilD 0.0009525625206107027\n",
        "bsilagani 0.0009525625206107027\n",
        "bsirmacek 0.0009525625206107027\n",
        "adarob 0.0009525625206107027\n",
        "Shamya 0.0009525625206107027\n",
        "Droogans 0.0009525625206107027\n",
        "amoussawi 0.0009525625206107027\n",
        "ml874 0.0009525625206107027\n",
        "twostraws 0.0009525625206107027\n",
        "notwaldorf 0.0009525625206107027\n",
        "em370 0.0009525625206107027\n",
        "SudhakarKuma 0.0009525625206107027\n",
        "l5shi 0.0009525625206107027\n",
        "dkthehuman 0.0009525625206107027\n",
        "annxingyuan 0.0009525625206107027\n",
        "rustynymph 0.0009525625206107027\n",
        "suragnair 0.0009525625206107027\n",
        "douxiaotian 0.0009525625206107027\n",
        "ashutoshdhundhara 0.0009525625206107027\n",
        "hhayley 0.0009525625206107027\n",
        "robertrenecker 0.0009525625206107027\n",
        "thelittlewonder 0.0009525625206107027\n",
        "elvisyjlin 0.0009525625206107027\n",
        "yaringal 0.0009525625206107027\n",
        "nathansilberman 0.0009525625206107027\n",
        "abhat222 0.0009525625206107027\n",
        "markomernick 0.0009525625206107027\n",
        "cooijmanstim 0.0009525625206107027\n",
        "captain-pool 0.0009525625206107027\n",
        "gitshanks 0.0009525625206107027\n",
        "VikramTiwari 0.0009525625206107027\n",
        "richa031 0.0009488480871153451\n",
        "bradtraversy 0.0009488480871153451\n",
        "yunjey 0.0009488480871153451\n",
        "jdalton 0.0009488480871153451\n",
        "aarshic 0.0009488480871153451\n",
        "abishekvashok 0.0009488480871153451\n",
        "hpdang 0.0009488480871153451\n",
        "divyanshu-rawat 0.0009488480871153451\n",
        "Orbiter 0.0009488480871153451\n",
        "yashovardhanagrawal 0.0009488480871153451\n",
        "akshatnitd 0.0009488480871153451\n",
        "Akshat-Jain 0.0009488480871153451\n",
        "gauravkulkarni96 0.0009488480871153451\n",
        "isuruAb 0.0009488480871153451\n",
        "StephenGrider 0.0009488480871153451\n",
        "zerefwayne 0.0009488480871153451\n",
        "catarak 0.0009488480871153451\n",
        "reeversedev 0.0009488480871153451\n",
        "jainkuniya 0.0009488480871153451\n",
        "rajvaibhavdubey 0.0009488480871153451\n",
        "harshit98 0.0009488480871153451\n",
        "mariobehling 0.0009488480871153451\n",
        "SaraVieira 0.0009488480871153451\n",
        "aSquare14 0.0009488480871153451\n",
        "anshumanv 0.0009488480871153451\n",
        "ParthS007 0.0009488480871153451\n",
        "ljharb 0.0009488480871153451\n",
        "schedutron 0.0009488480871153451\n",
        "m1guelpf 0.0009488480871153451\n",
        "viritaromero 0.0009426456898854079\n",
        "dgrtwo 0.0009426456898854079\n",
        "robertoentringer 0.0009426456898854079\n",
        "bertcarremans 0.0009426456898854079\n",
        "vkandola 0.0009426456898854079\n",
        "danialmalik 0.0009426456898854079\n",
        "yampelo 0.0009426456898854079\n",
        "FrederikHasecke 0.0009426456898854079\n",
        "aparnack 0.0009426456898854079\n",
        "jreback 0.0009426456898854079\n",
        "priya-dwivedi 0.0009426456898854079\n",
        "codelucas 0.0009426456898854079\n",
        "datapythonista 0.0009426456898854079\n",
        "fahad92virgo 0.0009426456898854079\n",
        "tirthajyoti 0.0009426456898854079\n",
        "asamolion 0.0009426456898854079\n",
        "loliverhennigh 0.0009426456898854079\n",
        "yuma-m 0.0009426456898854079\n",
        "benhamner 0.0009426456898854079\n",
        "micah5 0.0009426456898854079\n",
        "EdjeElectronics 0.0009426456898854079\n",
        "jalajthanaki 0.0009426456898854079\n",
        "dreadl0ck 0.0009426456898854079\n",
        "parulnith 0.0009426456898854079\n",
        "OmkarPathak 0.0009426456898854079\n",
        "PrashantRanjan09 0.0009426456898854079\n",
        "mirfan899 0.0009426456898854079\n",
        "akkefa 0.0009426456898854079\n",
        "danielsss 0.0009426456898854079\n",
        "YadiraF 0.0009426456898854079\n",
        "jessfraz 0.0009426456898854079\n",
        "smallcorgi 0.0009426456898854079\n",
        "ybashir 0.0009426456898854079\n",
        "Miserlou 0.0009426456898854079\n",
        "cbleek 0.0009426456898854079\n",
        "digitaldesigndj 0.0009426456898854079\n",
        "stewilondanga 0.0009426456898854079\n",
        "purvanshi 0.0009350322214123753\n",
        "iamtrask 0.000930751465793078\n",
        "llSourcell 0.0009284826669445937\n",
        "buckyroberts 0.0009212025515345616\n",
        "lexfridman 0.0009072567680595048\n",
        "ADITI-08 0.0008941320788862427\n",
        "madhavkhoslaa 0.0008941320788862427\n",
        "manjotsk 0.0008941320788862427\n",
        "hotshot07 0.0008941320788862427\n",
        "likeabhi 0.0008941320788862427\n",
        "abhishek-choudharys 0.0008941320788862427\n",
        "anshulbatra 0.0008941320788862427\n",
        "us241098 0.0008941320788862427\n",
        "kush-daga 0.0008941320788862427\n",
        "adarshanand2327 0.0008941320788862427\n",
        "rkwap 0.0008941320788862427\n",
        "piyushagru 0.0008941320788862427\n",
        "shas-g48 0.0008941320788862427\n",
        "nippun99 0.0008941320788862427\n",
        "vidi-vi 0.0008941320788862427\n",
        "AchyutChaudhary 0.0008941320788862427\n",
        "gujral1997 0.0008941320788862427\n",
        "vishnoitanuj 0.0008941320788862427\n",
        "tanmay-bhatnagar 0.0008941320788862427\n",
        "Akshitkhatkar 0.0008941320788862427\n",
        "shiv-am117 0.0008941320788862427\n",
        "upsehaj 0.0008941320788862427\n",
        "shreyagupta30 0.0008941320788862427\n",
        "ctubbsii 0.0008941320788862427\n",
        "siddu1998 0.0008941320788862427\n",
        "growupboron 0.0008941320788862427\n",
        "aditrisinha 0.0008941320788862427\n",
        "draguve 0.0008941320788862427\n",
        "chickletrao 0.0008941320788862427\n",
        "uditjuneja 0.0008941320788862427\n",
        "nickfrosst 0.0008941320788862427\n",
        "ayush194 0.0008941320788862427\n",
        "carykh 0.0008941320788862427\n",
        "lordozb 0.0008941320788862427\n",
        "kSinghParth 0.0008941320788862427\n",
        "LakshitF 0.0008941320788862427\n",
        "tathagat2006 0.0008941320788862427\n",
        "jcjohnson 0.0008762867101302354\n",
        "CipherFox 0.0008634002427583604\n",
        "Tony16 0.0008634002427583604\n",
        "ashish1294 0.0008522928042424757\n",
        "aarshayj 0.0008522220346216452\n",
        "gzc 0.0008510369887781725\n",
        "fchollet 0.0008484730608769751\n",
        "AdityaSoni19031997 0.0008312425728842531\n",
        "preetmishra 0.0008312425728842531\n",
        "ecnerwala 0.0008312425728842531\n",
        "sgonzalez 0.0008312425728842531\n",
        "Rapptz 0.0008312425728842531\n",
        "Manu-shukla 0.0008312425728842531\n",
        "VarmaMSP 0.0008312425728842531\n",
        "asweigart 0.0008312425728842531\n",
        "nemkin 0.0008312425728842531\n",
        "rfire2702 0.0008312425728842531\n",
        "racheltho 0.0008312425728842531\n",
        "HelloWorld017 0.0008312425728842531\n",
        "jhoffner 0.0008312425728842531\n",
        "abdullah768 0.0008312425728842531\n",
        "fatima399 0.0008312425728842531\n",
        "jamesrequa 0.0008312425728842531\n",
        "s-m-g 0.0008312425728842531\n",
        "nathandoctor 0.0008312425728842531\n",
        "makkoncept 0.0008312425728842531\n",
        "SuprDewd 0.0008312425728842531\n",
        "nayuki 0.0008312425728842531\n",
        "abhisheklolage 0.000830157254380465\n",
        "Pranav2612000 0.000830157254380465\n",
        "chiphuyen 0.0008264929723200135\n",
        "Pradeeshs 0.0008103155425334558\n",
        "shreyas-dhoot 0.000804553270574281\n",
        "shashankgandham 0.000804553270574281\n",
        "mihir97 0.000804553270574281\n",
        "akashmpatil11 0.000804553270574281\n",
        "VaradGhodake 0.000804553270574281\n",
        "MihirKulkarni 0.000804553270574281\n",
        "ameyaapte1 0.000804553270574281\n",
        "adityan263 0.000804553270574281\n",
        "getbiplab 0.000804553270574281\n",
        "sdimp 0.000804553270574281\n",
        "Pushan-Gore 0.000804553270574281\n",
        "rituraut05 0.000804553270574281\n",
        "mahmoud 0.0008019198214554359\n",
        "donnemartin 0.000796889332236082\n",
        "gvanrossum 0.000793153932602902\n",
        "mxcl 0.0007668057688063169\n",
        "billcccheng 0.0007668057688063169\n",
        "vstinner 0.0007668057688063169\n",
        "mistercrunch 0.0007668057688063169\n",
        "radovankavicky 0.0007668057688063169\n",
        "RameshAditya 0.0007668057688063169\n",
        "villasv 0.0007668057688063169\n",
        "jackfrued 0.0007668057688063169\n",
        "voxmenthe 0.0007668057688063169\n",
        "leportella 0.0007668057688063169\n",
        "gbbr 0.0007668057688063169\n",
        "daviddao 0.0007668057688063169\n",
        "satra 0.0007668057688063169\n",
        "dte 0.0007668057688063169\n",
        "tiangolo 0.0007668057688063169\n",
        "robbyrussell 0.0007668057688063169\n",
        "lorin 0.0007668057688063169\n",
        "irfansharif 0.0007668057688063169\n",
        "eugene123tw 0.0007668057688063169\n",
        "wwj718 0.0007668057688063169\n",
        "hanneshapke 0.0007668057688063169\n",
        "jeffmli 0.0007668057688063169\n",
        "mattjj 0.0007668057688063169\n",
        "kristw 0.0007668057688063169\n",
        "jayfeng1 0.0007668057688063169\n",
        "christinac 0.0007668057688063169\n",
        "gjreda 0.0007668057688063169\n",
        "eleijonmarck 0.0007668057688063169\n",
        "vlazovskiy 0.0007668057688063169\n",
        "nautilus28 0.0007668057688063169\n",
        "reshamas 0.0007668057688063169\n",
        "ashleymcnamara 0.0007668057688063169\n",
        "danilo-augusto 0.0007668057688063169\n",
        "SirVer 0.0007668057688063169\n",
        "pauloxnet 0.0007668057688063169\n",
        "githubharald 0.0007668057688063169\n",
        "lindeloev 0.0007668057688063169\n",
        "borismus 0.0007668057688063169\n",
        "kcosta42 0.0007668057688063169\n",
        "sungbinlim 0.0007668057688063169\n",
        "jmichaux 0.0007668057688063169\n",
        "kshitizrimal 0.0007668057688063169\n",
        "Y1ran 0.0007668057688063169\n",
        "mbadry1 0.0007668057688063169\n",
        "ResidentMario 0.0007668057688063169\n",
        "jonhoo 0.0007668057688063169\n",
        "navdeep-G 0.0007614356004429667\n",
        "ankitrathi169 0.0007614356004429667\n",
        "ledell 0.0007614356004429667\n",
        "suzyz 0.000761077010127864\n",
        "serhiy-storchaka 0.000761077010127864\n",
        "tim-one 0.000761077010127864\n",
        "lzl124631x 0.000761077010127864\n",
        "b-z 0.000761077010127864\n",
        "ZintrulCre 0.000761077010127864\n",
        "birkenfeld 0.000761077010127864\n",
        "csujedihy 0.000761077010127864\n",
        "nealwu 0.000761077010127864\n",
        "kenneth-reitz 0.000761077010127864\n",
        "tonyskn 0.000761077010127864\n",
        "ramalho 0.000761077010127864\n",
        "mocheng 0.000761077010127864\n",
        "ZhenjianYang 0.000761077010127864\n",
        "wsdjeg 0.000761077010127864\n",
        "Boomshakalak 0.000761077010127864\n",
        "geekcomputers 0.000761077010127864\n",
        "cai-lw 0.000761077010127864\n",
        "warsaw 0.000761077010127864\n",
        "freddrake 0.000761077010127864\n",
        "pochmann 0.000761077010127864\n",
        "fishercoder1534 0.000761077010127864\n",
        "RuedigerLunde 0.000761077010127864\n",
        "rhettinger 0.000761077010127864\n",
        "williamfiset 0.000761077010127864\n",
        "benjaminp 0.000761077010127864\n",
        "stevenhalim 0.000761077010127864\n",
        "jcwoodson 0.000761077010127864\n",
        "abeaumont 0.000761077010127864\n",
        "akaptur 0.000761077010127864\n",
        "erikrose 0.000761077010127864\n",
        "jakobkogler 0.000761077010127864\n",
        "antmarakis 0.000761077010127864\n",
        "pitrou 0.000761077010127864\n",
        "jackjansen 0.000761077010127864\n",
        "jmgimeno 0.000761077010127864\n",
        "mertzjames 0.000761077010127864\n",
        "JerryHu1994 0.000761077010127864\n",
        "brettcannon 0.000761077010127864\n",
        "yangshun 0.000761077010127864\n",
        "yubowenok 0.000761077010127864\n",
        "siddharthkp 0.0007549869756381929\n",
        "spf13 0.0007549869756381929\n",
        "chen0040 0.0007532895847145296\n",
        "tapaswenipathak 0.0007461637555870982\n",
        "dufferzafar 0.0007297494443052169\n",
        "harunshimanto 0.0007212139106426744\n",
        "nayeemnazmul 0.0007212139106426744\n",
        "maacpiash 0.0007212139106426744\n",
        "paul-pias 0.0007212139106426744\n",
        "Mituvinci 0.0007212139106426744\n",
        "codingforentrepreneurs 0.0007212139106426744\n",
        "rishabh115 0.0007212139106426744\n",
        "mhasan09 0.0007212139106426744\n",
        "Tahsin-Mayeesha 0.0007212139106426744\n",
        "msintaha 0.0007212139106426744\n",
        "TheHasnatBD 0.0007212139106426744\n",
        "binhnguyennus 0.0007212139106426744\n",
        "uroybd 0.0007212139106426744\n",
        "taufique74 0.0007212139106426744\n",
        "bahmi 0.0007212139106426744\n",
        "firozmahmud 0.0007212139106426744\n",
        "typicode 0.0007212139106426744\n",
        "forthright48 0.0007212139106426744\n",
        "raadu 0.0007212139106426744\n",
        "marcotav 0.0007212139106426744\n",
        "zakaria5729 0.0007212139106426744\n",
        "colah 0.0007178429179428596\n",
        "keon 0.0007172941003707389\n",
        "kedarvkunte 0.0007166701978076943\n",
        "abhnvkmr 0.0007166701978076943\n",
        "maskani-moh 0.0007166701978076943\n",
        "aiyazmiran 0.0007166701978076943\n",
        "ArvindSridhar 0.0007166701978076943\n",
        "rth 0.0007166701978076943\n",
        "hhsecond 0.0007166701978076943\n",
        "ashhack 0.0007166701978076943\n",
        "defunkt 0.0007166701978076943\n",
        "bookercodes 0.0007166701978076943\n",
        "rishiraj824 0.0007166701978076943\n",
        "saraswatmks 0.0007166701978076943\n",
        "akashgupta222 0.0007166701978076943\n",
        "alicezheng 0.0007166701978076943\n",
        "philipperemy 0.0007166701978076943\n",
        "chandanmaruthi 0.0007166701978076943\n",
        "raghu-icecraft 0.0007166701978076943\n",
        "rahulsant100 0.0007166701978076943\n",
        "kaz-Anova 0.0007166701978076943\n",
        "jmportilla 0.0007166701978076943\n",
        "neha-duggirala 0.0007166701978076943\n",
        "shivam5992 0.0007166701978076943\n",
        "cyanamous 0.0007166701978076943\n",
        "TomAugspurger 0.0007166701978076943\n",
        "akasranjan005 0.0007166701978076943\n",
        "ashoklathwal 0.0007166701978076943\n",
        "neilghosh 0.0007166701978076943\n",
        "jfpuget 0.0007166701978076943\n",
        "santiagomota 0.0007166701978076943\n",
        "qinhanmin2014 0.0007166701978076943\n",
        "SudalaiRajkumar 0.0007166701978076943\n",
        "AnneCarpenter 0.0007166701978076943\n",
        "jphall663 0.0007166701978076943\n",
        "debadridtt 0.0007166701978076943\n",
        "pbamotra 0.0007166701978076943\n",
        "MLWave 0.0007166701978076943\n",
        "fakyras 0.0007166701978076943\n",
        "mrisdal 0.0007166701978076943\n",
        "GaelVaroquaux 0.0007166701978076943\n",
        "Pierian-Data 0.0007166701978076943\n",
        "jbergstroem 0.0007140868331120602\n",
        "billbonney 0.0007140868331120602\n",
        "joransiu 0.0007140868331120602\n",
        "PoojaB26 0.0007140868331120602\n",
        "21echoes 0.0007140868331120602\n",
        "ankitaggarwal011 0.0007140868331120602\n",
        "MankaranSingh 0.0007140868331120602\n",
        "ofrobots 0.0007140868331120602\n",
        "OXINARF 0.0007140868331120602\n",
        "lvale 0.0007140868331120602\n",
        "mhdawson 0.0007140868331120602\n",
        "jainamritanshu 0.0007140868331120602\n",
        "BYVoid 0.0007140868331120602\n",
        "psrana 0.0007140868331120602\n",
        "geeeeeeeeek 0.0007140868331120602\n",
        "EShamaev 0.0007140868331120602\n",
        "CraigElder 0.0007140868331120602\n",
        "hkirat 0.0007140868331120602\n",
        "magicrub 0.0007140868331120602\n",
        "acabunoc 0.0007140868331120602\n",
        "bugobliterator 0.0007140868331120602\n",
        "taniarascia 0.0007140868331120602\n",
        "iamjaspreetsingh 0.0007140868331120602\n",
        "njoubert 0.0007140868331120602\n",
        "agentcooper 0.0007140868331120602\n",
        "DivyendraPatil 0.0007140868331120602\n",
        "SubhiH 0.0007140868331120602\n",
        "rsh7 0.0007140868331120602\n",
        "shiffman 0.0007140868331120602\n",
        "jasnell 0.0007140868331120602\n",
        "jaxxzer 0.0007140868331120602\n",
        "edemaine 0.0007140868331120602\n",
        "ChristopherOlson 0.0007140868331120602\n",
        "6a68 0.0007140868331120602\n",
        "sarthak-sehgal 0.0007140868331120602\n",
        "jimeh 0.0007140868331120602\n",
        "birdsarah 0.0007140868331120602\n",
        "squilter 0.0007140868331120602\n",
        "mirkix 0.0007140868331120602\n",
        "aggarwalpulkit596 0.0007140868331120602\n",
        "dipanjanS 0.0007118316567358564\n",
        "gurnish-singh 0.0007079946222242616\n",
        "soumith 0.0007029873715483203\n",
        "kundan2510 0.0007029873715483203\n",
        "mnielsen 0.0007029873715483203\n",
        "lilianweng 0.0007029873715483203\n",
        "petewarden 0.0007029873715483203\n",
        "danluu 0.0006909411355060626\n",
        "bhaduriu 0.0006909411355060626\n",
        "sb2nov 0.0006909411355060626\n",
        "felixrieseberg 0.0006909411355060626\n",
        "Gogul09 0.0006909411355060626\n",
        "glample 0.0006909411355060626\n",
        "akshaybahadur21 0.0006909411355060626\n",
        "nishnik 0.0006827288652937406\n",
        "shridharmishra4 0.0006760193346276383\n",
        "shotapentaho 0.0006760193346276383\n",
        "rajat5ranjan 0.0006760193346276383\n",
        "srishtipmishra 0.0006760193346276383\n",
        "TanviKumar 0.0006721540745184986\n",
        "tvganesh 0.0006721540745184986\n",
        "gwf 0.0006721540745184986\n",
        "SitiSchu 0.0006721540745184986\n",
        "xvjiarui 0.0006721540745184986\n",
        "ajaysh2193 0.0006721540745184986\n",
        "lordtt13 0.0006721540745184986\n",
        "1st1 0.0006721540745184986\n",
        "yash-nisar 0.0006721540745184986\n",
        "aditisrinivas97 0.0006721540745184986\n",
        "harshpalan 0.0006721540745184986\n",
        "dark-archerx 0.0006721540745184986\n",
        "timofurrer 0.0006721540745184986\n",
        "Savjee 0.0006721540745184986\n",
        "JonComo 0.0006721540745184986\n",
        "colinskow 0.0006721540745184986\n",
        "anuragsarkar97 0.0006721540745184986\n",
        "tnir 0.0006721540745184986\n",
        "Aareon 0.0006721540745184986\n",
        "OrionStar25 0.0006721540745184986\n",
        "CodHeK 0.0006721540745184986\n",
        "Abhay64 0.0006721540745184986\n",
        "gauntface 0.0006721540745184986\n",
        "munen 0.0006721540745184986\n",
        "pradeeprajkumar 0.0006721540745184986\n",
        "BaaniLeen 0.0006721540745184986\n",
        "malhotra5 0.0006721540745184986\n",
        "EricAlcaide 0.0006721540745184986\n",
        "vanshikaarora 0.0006721540745184986\n",
        "bpahuja 0.0006721540745184986\n",
        "arghyadeep99 0.0006721540745184986\n",
        "qurbat 0.0006721540745184986\n",
        "nadintamer 0.0006721540745184986\n",
        "MadhavBahlMD 0.0006721540745184986\n",
        "cliffpanos 0.0006721540745184986\n",
        "ferreirafabio 0.0006721540745184986\n",
        "mvirgo 0.0006721540745184986\n",
        "shamilee05 0.0006721540745184986\n",
        "zzzeek 0.0006721540745184986\n",
        "Anupam-dagar 0.0006721540745184986\n",
        "kanishkarj 0.0006721540745184986\n",
        "mkoconnor 0.0006721540745184986\n",
        "AbhinavThukral97 0.0006721540745184986\n",
        "shubham2004 0.0006721540745184986\n",
        "marshmelloX 0.0006678733188992012\n",
        "dhruveshshah 0.0006678733188992012\n",
        "dongwookim-ml 0.0006678733188992012\n",
        "golanlevin 0.0006678733188992012\n",
        "davidventuri 0.0006678733188992012\n",
        "nagypeterjob 0.0006678733188992012\n",
        "neelabhpant 0.0006678733188992012\n",
        "guillaumegenthial 0.0006678733188992012\n",
        "xkortex 0.0006678733188992012\n",
        "mdh266 0.0006678733188992012\n",
        "hanzhanggit 0.0006678733188992012\n",
        "lyashevska 0.0006678733188992012\n",
        "Kyubyong 0.0006678733188992012\n",
        "jessicayung 0.0006678733188992012\n",
        "ankeshanand 0.0006678733188992012\n",
        "kmario23 0.0006678733188992012\n",
        "awjuliani 0.0006678733188992012\n",
        "Ritusani 0.0006678733188992012\n",
        "beckernick 0.0006678733188992012\n",
        "aaxwaz 0.0006678733188992012\n",
        "mattmurray 0.0006678733188992012\n",
        "wiseodd 0.0006678733188992012\n",
        "shagunsodhani 0.0006678733188992012\n",
        "changwookjun 0.0006678733188992012\n",
        "erilyth 0.0006678733188992012\n",
        "taesungp 0.0006678733188992012\n",
        "dennybritz 0.0006678733188992012\n",
        "jakezhaojb 0.0006678733188992012\n",
        "lengstrom 0.0006678733188992012\n",
        "vi3k6i5 0.0006678733188992012\n",
        "aaksham 0.0006678733188992012\n",
        "tdhopper 0.0006678733188992012\n",
        "aiscientist 0.0006678733188992012\n",
        "neomatrix369 0.0006678733188992012\n",
        "DongjunLee 0.0006678733188992012\n",
        "DSKSD 0.0006678733188992012\n",
        "tuvtran 0.0006670662541005839\n",
        "riddhi2000 0.0006670662541005839\n",
        "tarun018 0.0006670662541005839\n",
        "skbly7 0.0006670662541005839\n",
        "nehaljwani 0.0006670662541005839\n",
        "nathanie 0.0006670662541005839\n",
        "rhnvrm 0.0006670662541005839\n",
        "aymericdamien 0.0006670662541005839\n",
        "ishit 0.0006670662541005839\n",
        "abhshkdz 0.000666367984641485\n",
        "r1walz 0.000666367984641485\n",
        "orionpax00 0.000666367984641485\n",
        "reiinakano 0.000666367984641485\n",
        "ac-alpha 0.000666367984641485\n",
        "aarushgupta 0.000666367984641485\n",
        "aribrill 0.000666367984641485\n",
        "rohithasrk 0.000666367984641485\n",
        "TDA 0.000666367984641485\n",
        "Ankit-Dhankhar 0.000666367984641485\n",
        "vicky002 0.000666367984641485\n",
        "ritchieng 0.000666367984641485\n",
        "fs0c131y 0.000666367984641485\n",
        "amaas 0.000666367984641485\n",
        "kdexd 0.000666367984641485"
       ]
      },
      {
       "output_type": "stream",
       "stream": "stdout",
       "text": [
        "\n",
        "aniketanvit 0.0006633308544674039\n",
        "championswimmer 0.0006633308544674039\n",
        "boxvc 0.0006633308544674039\n",
        "BrendanEich 0.0006633308544674039\n",
        "Ashishgup1 0.0006633308544674039\n",
        "aryabhattajr 0.0006633308544674039\n",
        "jewel998 0.0006633308544674039\n",
        "jogendra 0.0006633308544674039\n",
        "jessicatysu 0.0006633308544674039\n",
        "KartavyaKothari 0.0006633308544674039\n",
        "creativepsyco 0.0006633308544674039\n",
        "kalpitveerwal 0.0006633308544674039\n",
        "djokester 0.0006633308544674039\n",
        "ThaWeatherman 0.0006633308544674039\n",
        "amangoeliitb 0.0006633308544674039\n",
        "charliesome 0.0006633308544674039\n",
        "HemangRajvanshy 0.0006633308544674039\n",
        "vinaysomawat 0.0006633308544674039\n",
        "jarvisdev 0.0006633308544674039\n",
        "ishpreet-singh 0.0006633308544674039\n",
        "timbl 0.0006633308544674039\n",
        "thefr33radical 0.0006633308544674039\n",
        "raushankumarnitdgp 0.0006633308544674039\n",
        "jxr041100 0.0006633308544674039\n",
        "ogrisel 0.0006588169843129953\n",
        "RubensZimbres 0.0006588169843129953\n",
        "halfrost 0.0006588169843129953\n",
        "tqchen 0.0006588169843129953\n",
        "abhishekkrthakur 0.0006588169843129953\n",
        "Wrosinski 0.0006588169843129953\n",
        "viswanathgs 0.0006588169843129953\n",
        "jay-shah 0.0006588169843129953\n",
        "stefannibrasil 0.0006588169843129953\n",
        "Kaixhin 0.0006588169843129953\n",
        "SoufianeDataFan 0.0006588169843129953\n",
        "tobegit3hub 0.0006588169843129953\n",
        "abadams 0.0006588169843129953\n",
        "qiangxue 0.0006588169843129953\n",
        "jayshah19949596 0.0006588169843129953\n",
        "PalashBansal96 0.0006588169843129953\n",
        "evcu 0.0006588169843129953\n",
        "hollance 0.0006588169843129953\n",
        "dangkhoasdc 0.0006588169843129953\n",
        "bamos 0.0006588169843129953\n",
        "theSparta 0.0006588169843129953\n",
        "ghostwriternr 0.0006469165431855226\n",
        "CodingItWrong 0.0006469165431855226\n",
        "ryzokuken 0.0006469165431855226\n",
        "anirudhmurali 0.0006469165431855226\n",
        "prateekiiest 0.0006469165431855226\n",
        "Parth-Vader 0.0006469165431855226\n",
        "vicennial 0.0006469165431855226\n",
        "dibyasonu 0.0006469165431855226\n",
        "techcentaur 0.0006469165431855226\n",
        "sudheerachary 0.0006469165431855226\n",
        "gabru-md 0.0006469165431855226\n",
        "yask123 0.0006469165431855226\n",
        "nitinkgp23 0.0006469165431855226\n",
        "sunil-sopho 0.0006469165431855226\n",
        "OrkoHunter 0.0006469165431855226\n",
        "Yangqing 0.0006469165431855226\n",
        "piyush27ranjan 0.0006469165431855226\n",
        "ShikharJ 0.0006469165431855226\n",
        "526avijitgupta 0.0006469165431855226\n",
        "pranitbauva1997 0.0006469165431855226\n",
        "athityakumar 0.0006469165431855226\n",
        "Balajiganapathi 0.0006469165431855226\n",
        "Parbhat 0.0006469165431855226\n",
        "prrateekk 0.0006469165431855226\n",
        "SaumoPal97 0.0006469165431855226\n",
        "amityadav0 0.0006469165431855226\n",
        "nikhil96sher 0.0006469165431855226\n",
        "anujshah1003 0.0006469165431855226\n",
        "shuttlesworthNEO 0.0006469165431855226\n",
        "gkcs 0.0006469165431855226\n",
        "learnbyexample 0.0006469165431855226\n",
        "nat 0.0006469165431855226\n",
        "mbj36 0.0006469165431855226\n",
        "mayank2903 0.0006469165431855226\n",
        "zesterer 0.0006469165431855226\n",
        "apsdehal 0.0006469165431855226\n",
        "s0md3v 0.0006469165431855226\n",
        "kaustubhhiware 0.0006469165431855226\n",
        "satyanadella 0.0006469165431855226\n",
        "SkullTech 0.0006469165431855226\n",
        "ajithps 0.0006469165431855226\n",
        "4rshdeep 0.0006469165431855226\n",
        "shreyas-kowshik 0.0006469165431855226\n",
        "supreet02 0.0006469165431855226\n",
        "ajatgd 0.0006469165431855226\n",
        "goldsborough 0.0006469165431855226\n",
        "ashish-kenjale1 0.0006312539319923659\n",
        "awesomepeng 0.0006312539319923659\n",
        "antoni-minkiewicz 0.0006312539319923659\n",
        "sunnysinghnitb 0.0006312539319923659\n",
        "jmbhughes 0.0006312539319923659\n",
        "Emidiomeneses 0.0006312539319923659\n",
        "uigoku 0.0006312539319923659\n",
        "vermanotes 0.0006312539319923659\n",
        "DRFR0ST 0.0006312539319923659\n",
        "garg-dhruv 0.0006312539319923659\n",
        "biharipunjabi 0.0006312539319923659\n",
        "caneiro 0.0006312539319923659\n",
        "nelsonic 0.0006312539319923659\n",
        "ebraminio 0.0006312539319923659\n",
        "shubhamjn1 0.0006312539319923659\n",
        "rltjddl25 0.0006312539319923659\n",
        "rids15 0.0006312539319923659\n",
        "ataber 0.0006312539319923659\n",
        "ShreshthArora 0.0006312539319923659\n",
        "ibtisamasif 0.0006312539319923659\n",
        "JuntaoDong 0.0006312539319923659\n",
        "viveckrajasekar 0.0006312539319923659\n",
        "Richieone13 0.0006312539319923659\n",
        "sunitasen 0.0006312539319923659\n",
        "jfbso 0.0006312539319923659\n",
        "JashDalal 0.0006312539319923659\n",
        "Sua-Park 0.0006312539319923659\n",
        "manishanker 0.0006312539319923659\n",
        "sutjjang 0.0006312539319923659\n",
        "lakshaysharma14 0.0006312539319923659\n",
        "michael-iuzzolino 0.0006312539319923659\n",
        "agilebelma 0.0006312539319923659\n",
        "matievya 0.0006312539319923659\n",
        "KevinHock 0.0006312539319923659\n",
        "Shivrazz 0.0006312539319923659\n",
        "Rao-Arsalan 0.0006312539319923659\n",
        "NirmalKumarJoshi 0.0006312539319923659\n",
        "imhassantariq 0.0006312539319923659\n",
        "fxsupreme7 0.0006312539319923659\n",
        "angusshire 0.0006312539319923659\n",
        "chrisjes7 0.0006312539319923659\n",
        "algebric 0.0006312539319923659\n",
        "abhinav-anshul 0.0006312539319923659\n",
        "mehrozechughtai 0.0006312539319923659\n",
        "znaixian 0.0006312539319923659\n",
        "anubhavgautam 0.0006312539319923659\n",
        "istari7 0.0006312539319923659\n",
        "emevonlou 0.0006312539319923659\n",
        "AMSKarmajeet 0.0006312539319923659\n",
        "konradbachusz 0.0006312539319923659\n",
        "AviKasliwal 0.0006312539319923659\n",
        "dengdaibuxizhizhou 0.0006312539319923659\n",
        "kristinauko 0.0006312539319923659\n",
        "abhirooptan 0.0006312539319923659\n",
        "calelin 0.0006312539319923659\n",
        "husnainfareed 0.0006312539319923659\n",
        "Kushagra-ag 0.0006312539319923659\n",
        "ranahaani 0.0006312539319923659\n",
        "pengliheng 0.0006312539319923659\n",
        "GioLomia 0.0006312539319923659\n",
        "ajabhinav 0.0006312539319923659\n",
        "darshanaaoak 0.0006312539319923659\n",
        "Shubham1007 0.0006312539319923659\n",
        "i-abh-esc-wq 0.0006312539319923659\n",
        "prateksha 0.0006312539319923659\n",
        "illucent 0.0006312539319923659\n",
        "requeijaum 0.0006312539319923659\n",
        "sarthikgupta 0.0006312539319923659\n",
        "Juhi-0711 0.0006312539319923659\n",
        "adebesin 0.0006312539319923659\n",
        "jamshaidsohail5 0.0006312539319923659\n",
        "prateekpal 0.0006312539319923659\n",
        "Abd-Elrazek 0.0006312539319923659\n",
        "Mehakkhan7 0.0006312539319923659\n",
        "tjuhua 0.0006312539319923659\n",
        "pkmandke 0.0006312539319923659\n",
        "Prat99 0.0006312539319923659\n",
        "harsha-iiiv 0.0006312539319923659\n",
        "AkshaySapkale 0.0006312539319923659\n",
        "DateBro 0.0006312539319923659\n",
        "strangelycutlemon 0.0006312539319923659\n",
        "Abhigupta4981 0.0006312539319923659\n",
        "sahasradude 0.0006312539319923659\n",
        "zeyuxiao1997 0.0006312539319923659\n",
        "Ali60351 0.0006312539319923659\n",
        "Prince-Singh 0.0006312539319923659\n",
        "akshaygoelakki 0.0006312539319923659\n",
        "Leijtenss 0.0006312539319923659\n",
        "STSPrime 0.0006312539319923659\n",
        "MohebYasser 0.0006312539319923659\n",
        "ahmedzaky01 0.0006312539319923659\n",
        "rgk1916 0.0006312539319923659\n",
        "rjmacaranas 0.0006312539319923659\n",
        "Jody7 0.0006312539319923659\n",
        "lailaahmed28 0.0006312539319923659\n",
        "willmtemple 0.0006312539319923659\n",
        "psschand 0.0006312539319923659\n",
        "kelvin2go 0.0006312539319923659\n",
        "wangrenyn 0.0006312539319923659\n",
        "Sumegh-git 0.0006312539319923659\n",
        "b0nbon1 0.0006312539319923659\n",
        "Dmitriy-Vas 0.0006312539319923659\n",
        "bitmote 0.0006312539319923659\n",
        "thdqls235 0.0006312539319923659\n",
        "vijaychvb 0.0006312539319923659\n",
        "Ahanmr 0.0006312539319923659\n",
        "pederneramartin 0.0006312539319923659\n",
        "woodyko3234 0.0006312539319923659\n",
        "bilalsajid24 0.0006312539319923659\n",
        "dantetellezguevara 0.0006312539319923659\n",
        "dbstmdwns 0.0006312539319923659\n",
        "tayyabmughal676 0.0006312539319923659\n",
        "04ju30 0.0006312539319923659\n",
        "wiscwangrandi 0.0006312539319923659\n",
        "Dharmesh-Poddar 0.0006312539319923659\n",
        "ferazmirza 0.0006312539319923659\n",
        "sarmadgulzar 0.0006312539319923659\n",
        "z01nl1o02 0.0006312539319923659\n",
        "pradeepsinngh 0.0006312539319923659\n",
        "hsiang522 0.0006312539319923659\n",
        "Jameskry 0.0006312539319923659\n",
        "saadmahboob 0.0006312539319923659\n",
        "Mehraj123 0.0006312539319923659\n",
        "dzgank 0.0006312539319923659\n",
        "FcoAbreu 0.0006312539319923659\n",
        "muhajir29 0.0006312539319923659\n",
        "anujji1999 0.0006312539319923659\n",
        "aspindle 0.0006312539319923659\n",
        "Maledong 0.0006312539319923659\n",
        "YashTheRedDevil 0.0006312539319923659\n",
        "jsparmani 0.0006312539319923659\n",
        "charlesreid1 0.0006312539319923659\n",
        "yschen25 0.0006312539319923659\n",
        "BaseMax 0.0006312539319923659\n",
        "jcrodriguez1989 0.0006312539319923659\n",
        "megansdoingfine 0.0006312539319923659\n",
        "JSdanijela 0.0006312539319923659\n",
        "di1eep 0.0006312539319923659\n",
        "abhi1one 0.0006312539319923659\n",
        "samirghouri 0.0006312539319923659\n",
        "alalbux 0.0006312539319923659\n",
        "prakhar95 0.0006312539319923659\n",
        "FinTrek 0.0006312539319923659\n",
        "mytxd 0.0006312539319923659\n",
        "singhsukhendra 0.0006312539319923659\n",
        "atashfeshan 0.0006312539319923659\n",
        "hnykrp 0.0006312539319923659\n",
        "swang597 0.0006312539319923659\n",
        "namanvats 0.0006312539319923659\n",
        "just-a-bot 0.0006312539319923659\n",
        "YeechingLeung 0.0006312539319923659\n",
        "arpit9667 0.0006312539319923659\n",
        "IsabellaHoesch 0.0006312539319923659\n",
        "rftHusn 0.0006312539319923659\n",
        "alvinmap 0.0006312539319923659\n",
        "umeshG34 0.0006312539319923659\n",
        "marinameth 0.0006312539319923659\n",
        "bhupenderkumar 0.0006312539319923659\n",
        "Salonig97 0.0006312539319923659\n",
        "kujaomega 0.0006312539319923659\n",
        "LongWen12 0.0006312539319923659\n",
        "CLAUDERNORONHA 0.0006312539319923659\n",
        "loverty 0.0006312539319923659\n",
        "kumarlokesh 0.0006312539319923659\n",
        "ashiwaniN 0.0006312539319923659\n",
        "xichengxml 0.0006312539319923659\n",
        "asalmustaf 0.0006312539319923659\n",
        "devdatta95 0.0006312539319923659\n",
        "harishkumawat2610 0.0006312539319923659\n",
        "SAswinGiridhar 0.0006312539319923659\n",
        "Swathiu 0.0006312539319923659\n",
        "dpmittal 0.0006312539319923659\n",
        "ashwin74 0.0006312539319923659\n",
        "Mohit-1 0.0006312539319923659\n",
        "hashb 0.0006312539319923659\n",
        "uppart 0.0006312539319923659\n",
        "a-oboh 0.0006312539319923659\n",
        "tk3916 0.0006312539319923659\n",
        "anshul-aggarwal 0.0006312539319923659\n",
        "katie620 0.0006312539319923659\n",
        "satyapati0 0.0006312539319923659\n",
        "mstraughan86 0.0006312539319923659\n",
        "jfkkyz 0.0006312539319923659\n",
        "vibhor98 0.0006312539319923659\n",
        "SinghNO 0.0006312539319923659\n",
        "MRebati 0.0006312539319923659\n",
        "udevril 0.0006312539319923659\n",
        "RomsPina 0.0006312539319923659\n",
        "rikajuliano 0.0006312539319923659\n",
        "ryvens 0.0006312539319923659\n",
        "hea955 0.0006312539319923659\n",
        "adityasheth2000 0.0006312539319923659\n",
        "AKSingh-Udacity 0.0006312539319923659\n",
        "PravallikaKura 0.0006312539319923659\n",
        "ShaikMustaq 0.0006312539319923659\n",
        "it-fm 0.0006312539319923659\n",
        "JaesonFuller 0.0006312539319923659\n",
        "mujadadrao 0.0006312539319923659\n",
        "simplesolutiondev 0.0006312539319923659\n",
        "sauravmishra1710 0.0006312539319923659\n",
        "EeshanBembi 0.0006312539319923659\n",
        "nimishnk18 0.0006312539319923659\n",
        "mukulchandel 0.0006312539319923659\n",
        "Bennyoooo 0.0006312539319923659\n",
        "sk48880 0.0006312539319923659\n",
        "Hasil-Sharma 0.0006312539319923659\n",
        "Alisherka7 0.0006312539319923659\n",
        "cwenwen 0.0006312539319923659\n",
        "Nathandrake229 0.0006312539319923659\n",
        "d3adsh0t1 0.0006312539319923659\n",
        "supreem61 0.0006312539319923659\n",
        "twilday09 0.0006312539319923659\n",
        "XinLiu100 0.0006312539319923659\n",
        "Induber 0.0006312539319923659\n",
        "umer7 0.0006312539319923659\n",
        "batermj 0.0006312539319923659\n",
        "xiuxiansusan 0.0006312539319923659\n",
        "Pscorp007 0.0006312539319923659\n",
        "yan9yu 0.0006312539319923659\n",
        "pranavi18j 0.0006312539319923659\n",
        "hfhvhv 0.0006312539319923659\n",
        "rishabhgaurav007 0.0006312539319923659\n",
        "mkhizeryounas 0.0006312539319923659\n",
        "amolik 0.0006312539319923659\n",
        "Ksolip 0.0006312539319923659\n",
        "kernespring 0.0006312539319923659\n",
        "amiryeg 0.0006312539319923659\n",
        "Pfesi 0.0006312539319923659\n",
        "zaidbamber161 0.0006312539319923659\n",
        "k-udupa2000 0.0006312539319923659\n",
        "crabinvader 0.0006312539319923659\n",
        "rehan-qazi 0.0006312539319923659\n",
        "wangliqiang123 0.0006312539319923659\n",
        "AbhiruchiMaurya 0.0006312539319923659\n",
        "JohnJiangLA 0.0006312539319923659\n",
        "xushunke 0.0006312539319923659\n",
        "mayank-02 0.0006312539319923659\n",
        "patrixr 0.0006312539319923659\n",
        "xiayzh 0.0006312539319923659\n",
        "akisnow 0.0006312539319923659\n",
        "haxxorsid 0.0006312539319923659\n",
        "DhengreAni18 0.0006312539319923659\n",
        "sunilpatilspp7 0.0006312539319923659\n",
        "utfcard 0.0006312539319923659\n"
       ]
      },
      {
       "output_type": "stream",
       "stream": "stderr",
       "text": [
        "/home/akshay/.local/lib/python3.5/site-packages/networkx/drawing/nx_pylab.py:611: MatplotlibDeprecationWarning: isinstance(..., numbers.Number)\n",
        "  if cb.is_numlike(alpha):\n"
       ]
      }
     ],
     "prompt_number": 3
    },
    {
     "cell_type": "markdown",
     "metadata": {},
     "source": [
      "# Recommendation\n",
      "\n",
      "* Linkpredict is a module I have written, which provides 3 recommender functions- adamic-adar, rooted pagerank and propflow. Rooted pagerank is the best one for directed graphs. In this case, the data is a digraph of github users\n",
      "\n",
      "* The function defined finds the rooted pagerank of all users in the graph with the user as the root.\n",
      "r\n",
      "* Rooted pagerank works thus: it finds the **eigenvectors** of the random walk transformation for the graph. The modification which allows recommendation is thus:\n",
      "\n",
      "> With probability 'k' walk randomly along one of the edges with node as source (equivalent to multplying the state vector with the matrix with diagonal elements being 1/(no_of_outgoing_edges) if there is an edge to the node at that row.) With probability (1 - k) *teleport* back to the user's node (equivalent to adding (1 - k) * [state vector with 1 at position of the user, and all others 0s]\n",
      "\n",
      "* Repeatedly applying this transofmation will give a steady state vector which is the final pagerank. \n",
      "\n",
      "* The users having the highest pagerank are the ones recommended.\n",
      "\n",
      "* Now of the users recommended, remove the user, people he is already following, and sort the remaining according to score.\n",
      "\n",
      "* Of these, chose the top 'n' ones- these the recommendations\n"
     ]
    },
    {
     "cell_type": "code",
     "collapsed": false,
     "input": [
      "from linkpredict import rooted_pagerank\n",
      "\n",
      "def get_recommendations(graph, node, n):\n",
      "  recommendation_list = rooted_pagerank(graph, node, 0.5, 1e-6)\n",
      "  get_val = lambda key: recommendation_list[key]\n",
      "  top_recommendations = sorted(recommendation_list.keys(), key = get_val, reverse = True)\n",
      "  recommends = []\n",
      "  found = 0\n",
      "  i = 0\n",
      "  while len(recommends) < n:\n",
      "    if not graph.has_edge(node, top_recommendations[i]) and node != top_recommendations[i]:\n",
      "      recommends.append((top_recommendations[i], recommendation_list[top_recommendations[i]]))\n",
      "    i += 1\n",
      "                     \n",
      "  # print(recommends)\n",
      "      \n",
      "                     \n",
      "  return recommends\n",
      "    \n",
      "    \n",
      "  "
     ],
     "language": "python",
     "metadata": {
      "colab": {
       "base_uri": "https://localhost:8080/",
       "height": 386
      },
      "colab_type": "code",
      "id": "aFqbjjV8CmNc",
      "outputId": "cc338af6-fd6c-4bae-dc9a-1757995ab2b3"
     },
     "outputs": [],
     "prompt_number": 2
    },
    {
     "cell_type": "code",
     "collapsed": false,
     "input": [
      "recommends = get_recommendations(gitgraph, root, 10)\n",
      "\n",
      "for r in recommends:\n",
      "  print(r[0], r[1])"
     ],
     "language": "python",
     "metadata": {},
     "outputs": [
      {
       "output_type": "stream",
       "stream": "stdout",
       "text": [
        "1\n",
        "2\n",
        "3\n",
        "4\n",
        "5\n",
        "6\n",
        "7\n",
        "8\n",
        "9\n",
        "10\n",
        "11\n",
        "12\n",
        "Bye\n",
        "clefebvre 0.025598785684011017\n",
        "dalcde 0.025598785684011017\n",
        "sumedhpendurkar 0.009449326734303726\n",
        "Pranav2612000 0.009259838479510738\n",
        "abhisheklolage 0.009259838479510738\n",
        "saulcosta 0.008436369067473772\n",
        "brianyu28 0.007967693620203144\n",
        "johndbritton 0.00796769346473771\n",
        "OmarShaikh42 0.00796769346473771\n",
        "ummcheng 0.00796769346473771\n"
       ]
      }
     ],
     "prompt_number": 3
    },
    {
     "cell_type": "markdown",
     "metadata": {},
     "source": [
      "# References:\n",
      "\n",
      "1. https://en.wikipedia.org/wiki/PageRank\n",
      "\n",
      "2. \"The Link Prediction problem in social networks\"\n",
      "\n",
      "3. \"New perspectives and networks in link prediction\"\n",
      "\n"
     ]
    }
   ],
   "metadata": {}
  }
 ]
}